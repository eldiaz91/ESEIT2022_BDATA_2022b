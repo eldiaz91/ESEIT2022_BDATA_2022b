{
 "cells": [
  {
   "cell_type": "markdown",
   "metadata": {},
   "source": [
    "# EDA (Exploratory Data Analysis) Llamadas 123 Julio 2022"
   ]
  },
  {
   "cell_type": "code",
   "execution_count": 1,
   "metadata": {},
   "outputs": [],
   "source": [
    "# Importar librerias para manipulacion de datos\n",
    "import numpy as np\n",
    "import pandas as pd\n",
    "\n",
    "#Importar librerias de SO\n",
    "import os \n",
    "from pathlib import Path "
   ]
  },
  {
   "cell_type": "code",
   "execution_count": 19,
   "metadata": {},
   "outputs": [
    {
     "name": "stdout",
     "output_type": "stream",
     "text": [
      "El path del proyecto es:  C:\\Users\\DiazReyes\\Documents\n"
     ]
    }
   ],
   "source": [
    "filename=\"llamadas123_julio_2022.csv\"\n",
    "data_dir=\"raw\"\n",
    "root_dir=Path(\".\").resolve().parent \n",
    "print(\"El path del proyecto es: \", root_dir)\n",
    "\n",
    "file_path=os.path.join(root_dir,\"data\",data_dir,filename)\n",
    "\n",
    "data = pd.read_csv(file_path, encoding='latin-1', sep =';')\n",
    "\n",
    "data.head()\n"
   ]
  },
  {
   "cell_type": "code",
   "execution_count": 29,
   "metadata": {},
   "outputs": [],
   "source": [
    "data_dir = 'raw'\n",
    "root_dir=Path(\".\").resolve().parent\n",
    "file_path=os.path.join(root_dir,\"data\",data_dir,filename)\n",
    "data = pd.read_csv(file_path, encoding='latin-1', sep =';')"
   ]
  },
  {
   "cell_type": "code",
   "execution_count": 31,
   "metadata": {},
   "outputs": [
    {
     "data": {
      "text/plain": [
       "'c:\\\\Users\\\\DiazReyes\\\\Documents'"
      ]
     },
     "execution_count": 31,
     "metadata": {},
     "output_type": "execute_result"
    }
   ],
   "source": [
    "cwd = os.getcwd() \n",
    "cwd"
   ]
  },
  {
   "cell_type": "code",
   "execution_count": 3,
   "metadata": {},
   "outputs": [
    {
     "name": "stdout",
     "output_type": "stream",
     "text": [
      "Forma Inicial (13055, 11)\n"
     ]
    }
   ],
   "source": [
    "print('Forma Inicial', data.shape) # Retorna una tupla con las dimensiones de la tabla (n_rows, n_cols)"
   ]
  },
  {
   "cell_type": "code",
   "execution_count": 63,
   "metadata": {},
   "outputs": [
    {
     "name": "stdout",
     "output_type": "stream",
     "text": [
      "Forma final       NUMERO_INCIDENTE FECHA_INICIO_DESPLAZAMIENTO_MOVIL  CODIGO_LOCALIDAD  \\\n",
      "0      CRU-00278353-22               2022-07-01 00:08:59                11   \n",
      "1      CRU-00278360-22               2022-07-01 00:14:58                11   \n",
      "2      CRU-00278365-22               2022-07-01 00:21:59                18   \n",
      "3      CRU-00278370-22               2022-07-01 00:38:38                19   \n",
      "4      CRU-00278372-22               2022-07-01 00:53:32                 1   \n",
      "...                ...                               ...               ...   \n",
      "13050  CRU-00314021-22               2022-08-08 05:31:48                14   \n",
      "13051  CRU-00314021-22               2022-08-08 10:38:32                14   \n",
      "13052  CRU-00314021-22               2022-08-08 11:23:01                10   \n",
      "13053  CRU-00314021-22               2022-08-08 11:23:01                10   \n",
      "13054  CRU-00312775-22               0000-00-00 00:00:00                 9   \n",
      "\n",
      "                LOCALIDAD      EDAD    UNIDAD     GENERO             RED  \\\n",
      "0                    Suba        88      A¤os   FEMENINO           Norte   \n",
      "1                    Suba        16      A¤os  MASCULINO           Norte   \n",
      "2      Rafael Uribe Uribe        52      A¤os   FEMENINO  Centro Oriente   \n",
      "3          Ciudad Bol¡var  SIN_DATO  SIN_DATO   SIN_DATO         Privada   \n",
      "4                 Usaqun        33      A¤os  MASCULINO           Norte   \n",
      "...                   ...       ...       ...        ...             ...   \n",
      "13050        Los M rtires        18      A¤os   FEMENINO  Centro Oriente   \n",
      "13051        Los M rtires  SIN_DATO  SIN_DATO   SIN_DATO   Sur Occidente   \n",
      "13052            Engativ         11      A¤os  MASCULINO  Centro Oriente   \n",
      "13053            Engativ         19      A¤os   FEMENINO  Centro Oriente   \n",
      "13054            Fontib¢n  SIN_DATO  SIN_DATO   SIN_DATO   Sur Occidente   \n",
      "\n",
      "                   TIPO_INCIDENTE PRIORIDAD            RECEPCION  \\\n",
      "0      Accidente Cerebro Vascular      ALTA  2022-07-01 03:40:13   \n",
      "1                          Herido      ALTA  2022-07-01 03:38:13   \n",
      "2             Evento Respiratorio   CRITICA  2022-07-01 04:08:24   \n",
      "3                          Herido      ALTA  0000-00-00 00:00:00   \n",
      "4             Intento de Suicidio      ALTA  2022-07-01 03:25:29   \n",
      "...                           ...       ...                  ...   \n",
      "13050       Acompa¤amiento Evento      BAJA       8/08/2022 6:48   \n",
      "13051       Acompa¤amiento Evento      BAJA  0000-00-00 00:00:00   \n",
      "13052       Acompa¤amiento Evento      BAJA      9/08/2022 13:13   \n",
      "13053       Acompa¤amiento Evento      BAJA  0000-00-00 00:00:00   \n",
      "13054  Accidente Cerebro Vascular      ALTA  0000-00-00 00:00:00   \n",
      "\n",
      "      RECEPCION_CORREGIDA  \n",
      "0     2022-07-01 03:40:13  \n",
      "1     2022-07-01 03:38:13  \n",
      "2     2022-07-01 04:08:24  \n",
      "3                     NaT  \n",
      "4     2022-07-01 03:25:29  \n",
      "...                   ...  \n",
      "13050 2022-08-08 06:48:00  \n",
      "13051                 NaT  \n",
      "13052 2022-09-08 13:13:00  \n",
      "13053                 NaT  \n",
      "13054                 NaT  \n",
      "\n",
      "[13026 rows x 12 columns]\n"
     ]
    }
   ],
   "source": [
    "data = data.drop_duplicates()\n",
    "print('Forma final', data)"
   ]
  },
  {
   "cell_type": "code",
   "execution_count": 6,
   "metadata": {},
   "outputs": [
    {
     "name": "stdout",
     "output_type": "stream",
     "text": [
      "<class 'pandas.core.frame.DataFrame'>\n",
      "Int64Index: 13026 entries, 0 to 13054\n",
      "Data columns (total 11 columns):\n",
      " #   Column                             Non-Null Count  Dtype \n",
      "---  ------                             --------------  ----- \n",
      " 0   NUMERO_INCIDENTE                   13026 non-null  object\n",
      " 1   FECHA_INICIO_DESPLAZAMIENTO_MOVIL  13026 non-null  object\n",
      " 2   CODIGO_LOCALIDAD                   13026 non-null  int64 \n",
      " 3   LOCALIDAD                          13026 non-null  object\n",
      " 4   EDAD                               13026 non-null  object\n",
      " 5   UNIDAD                             13018 non-null  object\n",
      " 6   GENERO                             13026 non-null  object\n",
      " 7   RED                                13026 non-null  object\n",
      " 8   TIPO_INCIDENTE                     13026 non-null  object\n",
      " 9   PRIORIDAD                          13026 non-null  object\n",
      " 10  RECEPCION                          13026 non-null  object\n",
      "dtypes: int64(1), object(10)\n",
      "memory usage: 1.2+ MB\n"
     ]
    }
   ],
   "source": [
    "#Esquema de la Tabla\n",
    "data.info()"
   ]
  },
  {
   "cell_type": "code",
   "execution_count": 9,
   "metadata": {},
   "outputs": [
    {
     "data": {
      "text/plain": [
       "A¤os        6781\n",
       "SIN_DATO    6187\n",
       "Meses         39\n",
       "NaN            8\n",
       "Horas          6\n",
       "Dias           5\n",
       "Name: UNIDAD, dtype: int64"
      ]
     },
     "execution_count": 9,
     "metadata": {},
     "output_type": "execute_result"
    }
   ],
   "source": [
    "data['UNIDAD'].value_counts(dropna=False) #Conteo de Los valores de Unidad sin eliminar los nulos dropna=False"
   ]
  },
  {
   "cell_type": "code",
   "execution_count": 13,
   "metadata": {},
   "outputs": [
    {
     "data": {
      "text/plain": [
       "A¤os        6781\n",
       "SIN_DATO    6187\n",
       "Meses         39\n",
       "SIN DATO       8\n",
       "Horas          6\n",
       "Dias           5\n",
       "Name: UNIDAD, dtype: int64"
      ]
     },
     "execution_count": 13,
     "metadata": {},
     "output_type": "execute_result"
    }
   ],
   "source": [
    "#Reemplace en la columna unidad los nulos por SIN_DATO (columna NaN)\n",
    "data['UNIDAD'].fillna('SIN DATO').value_counts(dropna=False)"
   ]
  },
  {
   "cell_type": "code",
   "execution_count": 12,
   "metadata": {},
   "outputs": [
    {
     "data": {
      "text/plain": [
       "A¤os        6781\n",
       "SIN_DATO    6187\n",
       "Meses         39\n",
       "SIN DATO       8\n",
       "Horas          6\n",
       "Dias           5\n",
       "Name: UNIDAD, dtype: int64"
      ]
     },
     "execution_count": 12,
     "metadata": {},
     "output_type": "execute_result"
    }
   ],
   "source": [
    "data['UNIDAD'].fillna('SIN DATO').value_counts(dropna=False, normalize=False)"
   ]
  },
  {
   "cell_type": "code",
   "execution_count": 15,
   "metadata": {},
   "outputs": [],
   "source": [
    "#reemplazar valores de una columna:\n",
    "#Se reemplaza la columna Unidad con valores nulos por el valor SIN_DATO\n",
    "\n",
    "data ['UNIDAD'] =data['UNIDAD'].fillna('SIN_DATO')"
   ]
  },
  {
   "cell_type": "code",
   "execution_count": 16,
   "metadata": {},
   "outputs": [
    {
     "name": "stdout",
     "output_type": "stream",
     "text": [
      "<class 'pandas.core.frame.DataFrame'>\n",
      "Int64Index: 13026 entries, 0 to 13054\n",
      "Data columns (total 11 columns):\n",
      " #   Column                             Non-Null Count  Dtype \n",
      "---  ------                             --------------  ----- \n",
      " 0   NUMERO_INCIDENTE                   13026 non-null  object\n",
      " 1   FECHA_INICIO_DESPLAZAMIENTO_MOVIL  13026 non-null  object\n",
      " 2   CODIGO_LOCALIDAD                   13026 non-null  int64 \n",
      " 3   LOCALIDAD                          13026 non-null  object\n",
      " 4   EDAD                               13026 non-null  object\n",
      " 5   UNIDAD                             13026 non-null  object\n",
      " 6   GENERO                             13026 non-null  object\n",
      " 7   RED                                13026 non-null  object\n",
      " 8   TIPO_INCIDENTE                     13026 non-null  object\n",
      " 9   PRIORIDAD                          13026 non-null  object\n",
      " 10  RECEPCION                          13026 non-null  object\n",
      "dtypes: int64(1), object(10)\n",
      "memory usage: 1.2+ MB\n"
     ]
    }
   ],
   "source": [
    "data.info()"
   ]
  },
  {
   "cell_type": "code",
   "execution_count": 17,
   "metadata": {},
   "outputs": [
    {
     "data": {
      "text/plain": [
       "0        2022-07-01 00:08:59\n",
       "1        2022-07-01 00:14:58\n",
       "2        2022-07-01 00:21:59\n",
       "3        2022-07-01 00:38:38\n",
       "4        2022-07-01 00:53:32\n",
       "                ...         \n",
       "13050    2022-08-08 05:31:48\n",
       "13051    2022-08-08 10:38:32\n",
       "13052    2022-08-08 11:23:01\n",
       "13053    2022-08-08 11:23:01\n",
       "13054    0000-00-00 00:00:00\n",
       "Name: FECHA_INICIO_DESPLAZAMIENTO_MOVIL, Length: 13026, dtype: object"
      ]
     },
     "execution_count": 17,
     "metadata": {},
     "output_type": "execute_result"
    }
   ],
   "source": [
    "col='FECHA_INICIO_DESPLAZAMIENTO_MOVIL'\n",
    "data[col]"
   ]
  },
  {
   "cell_type": "code",
   "execution_count": 18,
   "metadata": {},
   "outputs": [
    {
     "data": {
      "text/plain": [
       "2022-07-19 11:02:02    14\n",
       "2022-07-16 13:31:01     8\n",
       "2022-07-12 19:03:08     6\n",
       "2022-07-22 12:01:36     6\n",
       "2022-07-23 09:47:11     5\n",
       "                       ..\n",
       "2022-07-11 08:53:13     1\n",
       "2022-07-11 09:01:16     1\n",
       "2022-07-11 09:08:54     1\n",
       "2022-07-11 09:12:48     1\n",
       "0000-00-00 00:00:00     1\n",
       "Name: FECHA_INICIO_DESPLAZAMIENTO_MOVIL, Length: 12781, dtype: int64"
      ]
     },
     "execution_count": 18,
     "metadata": {},
     "output_type": "execute_result"
    }
   ],
   "source": [
    "col='FECHA_INICIO_DESPLAZAMIENTO_MOVIL'\n",
    "data[col].value_counts()"
   ]
  },
  {
   "cell_type": "code",
   "execution_count": 19,
   "metadata": {},
   "outputs": [
    {
     "data": {
      "text/plain": [
       "'2022-08-08 11:23:01'"
      ]
     },
     "execution_count": 19,
     "metadata": {},
     "output_type": "execute_result"
    }
   ],
   "source": [
    "data[col].max()"
   ]
  },
  {
   "cell_type": "code",
   "execution_count": 21,
   "metadata": {},
   "outputs": [
    {
     "data": {
      "text/html": [
       "<div>\n",
       "<style scoped>\n",
       "    .dataframe tbody tr th:only-of-type {\n",
       "        vertical-align: middle;\n",
       "    }\n",
       "\n",
       "    .dataframe tbody tr th {\n",
       "        vertical-align: top;\n",
       "    }\n",
       "\n",
       "    .dataframe thead th {\n",
       "        text-align: right;\n",
       "    }\n",
       "</style>\n",
       "<table border=\"1\" class=\"dataframe\">\n",
       "  <thead>\n",
       "    <tr style=\"text-align: right;\">\n",
       "      <th></th>\n",
       "      <th>NUMERO_INCIDENTE</th>\n",
       "      <th>FECHA_INICIO_DESPLAZAMIENTO_MOVIL</th>\n",
       "      <th>CODIGO_LOCALIDAD</th>\n",
       "      <th>LOCALIDAD</th>\n",
       "      <th>EDAD</th>\n",
       "      <th>UNIDAD</th>\n",
       "      <th>GENERO</th>\n",
       "      <th>RED</th>\n",
       "      <th>TIPO_INCIDENTE</th>\n",
       "      <th>PRIORIDAD</th>\n",
       "      <th>RECEPCION</th>\n",
       "    </tr>\n",
       "  </thead>\n",
       "  <tbody>\n",
       "    <tr>\n",
       "      <th>13054</th>\n",
       "      <td>CRU-00312775-22</td>\n",
       "      <td>0000-00-00 00:00:00</td>\n",
       "      <td>9</td>\n",
       "      <td>Fontib¢n</td>\n",
       "      <td>SIN_DATO</td>\n",
       "      <td>SIN_DATO</td>\n",
       "      <td>SIN_DATO</td>\n",
       "      <td>Sur Occidente</td>\n",
       "      <td>Accidente Cerebro Vascular</td>\n",
       "      <td>ALTA</td>\n",
       "      <td>0000-00-00 00:00:00</td>\n",
       "    </tr>\n",
       "  </tbody>\n",
       "</table>\n",
       "</div>"
      ],
      "text/plain": [
       "      NUMERO_INCIDENTE FECHA_INICIO_DESPLAZAMIENTO_MOVIL  CODIGO_LOCALIDAD  \\\n",
       "13054  CRU-00312775-22               0000-00-00 00:00:00                 9   \n",
       "\n",
       "      LOCALIDAD      EDAD    UNIDAD    GENERO            RED  \\\n",
       "13054  Fontib¢n  SIN_DATO  SIN_DATO  SIN_DATO  Sur Occidente   \n",
       "\n",
       "                   TIPO_INCIDENTE PRIORIDAD            RECEPCION  \n",
       "13054  Accidente Cerebro Vascular      ALTA  0000-00-00 00:00:00  "
      ]
     },
     "execution_count": 21,
     "metadata": {},
     "output_type": "execute_result"
    }
   ],
   "source": [
    "#Aplicar filtros\n",
    "val_min = data[col].min()\n",
    "data[data[col] == val_min] #"
   ]
  },
  {
   "cell_type": "code",
   "execution_count": 22,
   "metadata": {},
   "outputs": [
    {
     "data": {
      "text/html": [
       "<div>\n",
       "<style scoped>\n",
       "    .dataframe tbody tr th:only-of-type {\n",
       "        vertical-align: middle;\n",
       "    }\n",
       "\n",
       "    .dataframe tbody tr th {\n",
       "        vertical-align: top;\n",
       "    }\n",
       "\n",
       "    .dataframe thead th {\n",
       "        text-align: right;\n",
       "    }\n",
       "</style>\n",
       "<table border=\"1\" class=\"dataframe\">\n",
       "  <thead>\n",
       "    <tr style=\"text-align: right;\">\n",
       "      <th></th>\n",
       "      <th>NUMERO_INCIDENTE</th>\n",
       "      <th>FECHA_INICIO_DESPLAZAMIENTO_MOVIL</th>\n",
       "      <th>CODIGO_LOCALIDAD</th>\n",
       "      <th>LOCALIDAD</th>\n",
       "      <th>EDAD</th>\n",
       "      <th>UNIDAD</th>\n",
       "      <th>GENERO</th>\n",
       "      <th>RED</th>\n",
       "      <th>TIPO_INCIDENTE</th>\n",
       "      <th>PRIORIDAD</th>\n",
       "      <th>RECEPCION</th>\n",
       "    </tr>\n",
       "  </thead>\n",
       "  <tbody>\n",
       "    <tr>\n",
       "      <th>0</th>\n",
       "      <td>CRU-00278353-22</td>\n",
       "      <td>2022-07-01 00:08:59</td>\n",
       "      <td>11</td>\n",
       "      <td>Suba</td>\n",
       "      <td>88</td>\n",
       "      <td>A¤os</td>\n",
       "      <td>FEMENINO</td>\n",
       "      <td>Norte</td>\n",
       "      <td>Accidente Cerebro Vascular</td>\n",
       "      <td>ALTA</td>\n",
       "      <td>2022-07-01 03:40:13</td>\n",
       "    </tr>\n",
       "    <tr>\n",
       "      <th>1</th>\n",
       "      <td>CRU-00278360-22</td>\n",
       "      <td>2022-07-01 00:14:58</td>\n",
       "      <td>11</td>\n",
       "      <td>Suba</td>\n",
       "      <td>16</td>\n",
       "      <td>A¤os</td>\n",
       "      <td>MASCULINO</td>\n",
       "      <td>Norte</td>\n",
       "      <td>Herido</td>\n",
       "      <td>ALTA</td>\n",
       "      <td>2022-07-01 03:38:13</td>\n",
       "    </tr>\n",
       "    <tr>\n",
       "      <th>2</th>\n",
       "      <td>CRU-00278365-22</td>\n",
       "      <td>2022-07-01 00:21:59</td>\n",
       "      <td>18</td>\n",
       "      <td>Rafael Uribe Uribe</td>\n",
       "      <td>52</td>\n",
       "      <td>A¤os</td>\n",
       "      <td>FEMENINO</td>\n",
       "      <td>Centro Oriente</td>\n",
       "      <td>Evento Respiratorio</td>\n",
       "      <td>CRITICA</td>\n",
       "      <td>2022-07-01 04:08:24</td>\n",
       "    </tr>\n",
       "    <tr>\n",
       "      <th>3</th>\n",
       "      <td>CRU-00278370-22</td>\n",
       "      <td>2022-07-01 00:38:38</td>\n",
       "      <td>19</td>\n",
       "      <td>Ciudad Bol¡var</td>\n",
       "      <td>SIN_DATO</td>\n",
       "      <td>SIN_DATO</td>\n",
       "      <td>SIN_DATO</td>\n",
       "      <td>Privada</td>\n",
       "      <td>Herido</td>\n",
       "      <td>ALTA</td>\n",
       "      <td>0000-00-00 00:00:00</td>\n",
       "    </tr>\n",
       "    <tr>\n",
       "      <th>4</th>\n",
       "      <td>CRU-00278372-22</td>\n",
       "      <td>2022-07-01 00:53:32</td>\n",
       "      <td>1</td>\n",
       "      <td>Usaqun</td>\n",
       "      <td>33</td>\n",
       "      <td>A¤os</td>\n",
       "      <td>MASCULINO</td>\n",
       "      <td>Norte</td>\n",
       "      <td>Intento de Suicidio</td>\n",
       "      <td>ALTA</td>\n",
       "      <td>2022-07-01 03:25:29</td>\n",
       "    </tr>\n",
       "    <tr>\n",
       "      <th>...</th>\n",
       "      <td>...</td>\n",
       "      <td>...</td>\n",
       "      <td>...</td>\n",
       "      <td>...</td>\n",
       "      <td>...</td>\n",
       "      <td>...</td>\n",
       "      <td>...</td>\n",
       "      <td>...</td>\n",
       "      <td>...</td>\n",
       "      <td>...</td>\n",
       "      <td>...</td>\n",
       "    </tr>\n",
       "    <tr>\n",
       "      <th>13049</th>\n",
       "      <td>CRU-00314021-22</td>\n",
       "      <td>2022-08-02 03:25:08</td>\n",
       "      <td>14</td>\n",
       "      <td>Los M rtires</td>\n",
       "      <td>SIN_DATO</td>\n",
       "      <td>SIN_DATO</td>\n",
       "      <td>SIN_DATO</td>\n",
       "      <td>Centro Oriente</td>\n",
       "      <td>Acompa¤amiento Evento</td>\n",
       "      <td>BAJA</td>\n",
       "      <td>0000-00-00 00:00:00</td>\n",
       "    </tr>\n",
       "    <tr>\n",
       "      <th>13050</th>\n",
       "      <td>CRU-00314021-22</td>\n",
       "      <td>2022-08-08 05:31:48</td>\n",
       "      <td>14</td>\n",
       "      <td>Los M rtires</td>\n",
       "      <td>18</td>\n",
       "      <td>A¤os</td>\n",
       "      <td>FEMENINO</td>\n",
       "      <td>Centro Oriente</td>\n",
       "      <td>Acompa¤amiento Evento</td>\n",
       "      <td>BAJA</td>\n",
       "      <td>8/08/2022 6:48</td>\n",
       "    </tr>\n",
       "    <tr>\n",
       "      <th>13051</th>\n",
       "      <td>CRU-00314021-22</td>\n",
       "      <td>2022-08-08 10:38:32</td>\n",
       "      <td>14</td>\n",
       "      <td>Los M rtires</td>\n",
       "      <td>SIN_DATO</td>\n",
       "      <td>SIN_DATO</td>\n",
       "      <td>SIN_DATO</td>\n",
       "      <td>Sur Occidente</td>\n",
       "      <td>Acompa¤amiento Evento</td>\n",
       "      <td>BAJA</td>\n",
       "      <td>0000-00-00 00:00:00</td>\n",
       "    </tr>\n",
       "    <tr>\n",
       "      <th>13052</th>\n",
       "      <td>CRU-00314021-22</td>\n",
       "      <td>2022-08-08 11:23:01</td>\n",
       "      <td>10</td>\n",
       "      <td>Engativ</td>\n",
       "      <td>11</td>\n",
       "      <td>A¤os</td>\n",
       "      <td>MASCULINO</td>\n",
       "      <td>Centro Oriente</td>\n",
       "      <td>Acompa¤amiento Evento</td>\n",
       "      <td>BAJA</td>\n",
       "      <td>9/08/2022 13:13</td>\n",
       "    </tr>\n",
       "    <tr>\n",
       "      <th>13053</th>\n",
       "      <td>CRU-00314021-22</td>\n",
       "      <td>2022-08-08 11:23:01</td>\n",
       "      <td>10</td>\n",
       "      <td>Engativ</td>\n",
       "      <td>19</td>\n",
       "      <td>A¤os</td>\n",
       "      <td>FEMENINO</td>\n",
       "      <td>Centro Oriente</td>\n",
       "      <td>Acompa¤amiento Evento</td>\n",
       "      <td>BAJA</td>\n",
       "      <td>0000-00-00 00:00:00</td>\n",
       "    </tr>\n",
       "  </tbody>\n",
       "</table>\n",
       "<p>13025 rows × 11 columns</p>\n",
       "</div>"
      ],
      "text/plain": [
       "      NUMERO_INCIDENTE FECHA_INICIO_DESPLAZAMIENTO_MOVIL  CODIGO_LOCALIDAD  \\\n",
       "0      CRU-00278353-22               2022-07-01 00:08:59                11   \n",
       "1      CRU-00278360-22               2022-07-01 00:14:58                11   \n",
       "2      CRU-00278365-22               2022-07-01 00:21:59                18   \n",
       "3      CRU-00278370-22               2022-07-01 00:38:38                19   \n",
       "4      CRU-00278372-22               2022-07-01 00:53:32                 1   \n",
       "...                ...                               ...               ...   \n",
       "13049  CRU-00314021-22               2022-08-02 03:25:08                14   \n",
       "13050  CRU-00314021-22               2022-08-08 05:31:48                14   \n",
       "13051  CRU-00314021-22               2022-08-08 10:38:32                14   \n",
       "13052  CRU-00314021-22               2022-08-08 11:23:01                10   \n",
       "13053  CRU-00314021-22               2022-08-08 11:23:01                10   \n",
       "\n",
       "                LOCALIDAD      EDAD    UNIDAD     GENERO             RED  \\\n",
       "0                    Suba        88      A¤os   FEMENINO           Norte   \n",
       "1                    Suba        16      A¤os  MASCULINO           Norte   \n",
       "2      Rafael Uribe Uribe        52      A¤os   FEMENINO  Centro Oriente   \n",
       "3          Ciudad Bol¡var  SIN_DATO  SIN_DATO   SIN_DATO         Privada   \n",
       "4                 Usaqun        33      A¤os  MASCULINO           Norte   \n",
       "...                   ...       ...       ...        ...             ...   \n",
       "13049        Los M rtires  SIN_DATO  SIN_DATO   SIN_DATO  Centro Oriente   \n",
       "13050        Los M rtires        18      A¤os   FEMENINO  Centro Oriente   \n",
       "13051        Los M rtires  SIN_DATO  SIN_DATO   SIN_DATO   Sur Occidente   \n",
       "13052            Engativ         11      A¤os  MASCULINO  Centro Oriente   \n",
       "13053            Engativ         19      A¤os   FEMENINO  Centro Oriente   \n",
       "\n",
       "                   TIPO_INCIDENTE PRIORIDAD            RECEPCION  \n",
       "0      Accidente Cerebro Vascular      ALTA  2022-07-01 03:40:13  \n",
       "1                          Herido      ALTA  2022-07-01 03:38:13  \n",
       "2             Evento Respiratorio   CRITICA  2022-07-01 04:08:24  \n",
       "3                          Herido      ALTA  0000-00-00 00:00:00  \n",
       "4             Intento de Suicidio      ALTA  2022-07-01 03:25:29  \n",
       "...                           ...       ...                  ...  \n",
       "13049       Acompa¤amiento Evento      BAJA  0000-00-00 00:00:00  \n",
       "13050       Acompa¤amiento Evento      BAJA       8/08/2022 6:48  \n",
       "13051       Acompa¤amiento Evento      BAJA  0000-00-00 00:00:00  \n",
       "13052       Acompa¤amiento Evento      BAJA      9/08/2022 13:13  \n",
       "13053       Acompa¤amiento Evento      BAJA  0000-00-00 00:00:00  \n",
       "\n",
       "[13025 rows x 11 columns]"
      ]
     },
     "execution_count": 22,
     "metadata": {},
     "output_type": "execute_result"
    }
   ],
   "source": [
    "data[data[col] != val_min]"
   ]
  },
  {
   "cell_type": "code",
   "execution_count": 23,
   "metadata": {},
   "outputs": [
    {
     "data": {
      "text/plain": [
       "0       2022-07-01 00:08:59\n",
       "1       2022-07-01 00:14:58\n",
       "2       2022-07-01 00:21:59\n",
       "3       2022-07-01 00:38:38\n",
       "4       2022-07-01 00:53:32\n",
       "                ...        \n",
       "13050   2022-08-08 05:31:48\n",
       "13051   2022-08-08 10:38:32\n",
       "13052   2022-08-08 11:23:01\n",
       "13053   2022-08-08 11:23:01\n",
       "13054                   NaT\n",
       "Name: FECHA_INICIO_DESPLAZAMIENTO_MOVIL, Length: 13026, dtype: datetime64[ns]"
      ]
     },
     "execution_count": 23,
     "metadata": {},
     "output_type": "execute_result"
    }
   ],
   "source": [
    "#Fomarto de Fechas (datetime)\n",
    "pd.to_datetime(data[col], errors = 'coerce')"
   ]
  },
  {
   "cell_type": "code",
   "execution_count": 24,
   "metadata": {},
   "outputs": [],
   "source": [
    "#Asignar tipo de dato a la columna\n",
    "data [col]=pd.to_datetime(data[col], errors = 'coerce')"
   ]
  },
  {
   "cell_type": "code",
   "execution_count": 25,
   "metadata": {},
   "outputs": [
    {
     "name": "stdout",
     "output_type": "stream",
     "text": [
      "<class 'pandas.core.frame.DataFrame'>\n",
      "Int64Index: 13026 entries, 0 to 13054\n",
      "Data columns (total 11 columns):\n",
      " #   Column                             Non-Null Count  Dtype         \n",
      "---  ------                             --------------  -----         \n",
      " 0   NUMERO_INCIDENTE                   13026 non-null  object        \n",
      " 1   FECHA_INICIO_DESPLAZAMIENTO_MOVIL  13025 non-null  datetime64[ns]\n",
      " 2   CODIGO_LOCALIDAD                   13026 non-null  int64         \n",
      " 3   LOCALIDAD                          13026 non-null  object        \n",
      " 4   EDAD                               13026 non-null  object        \n",
      " 5   UNIDAD                             13026 non-null  object        \n",
      " 6   GENERO                             13026 non-null  object        \n",
      " 7   RED                                13026 non-null  object        \n",
      " 8   TIPO_INCIDENTE                     13026 non-null  object        \n",
      " 9   PRIORIDAD                          13026 non-null  object        \n",
      " 10  RECEPCION                          13026 non-null  object        \n",
      "dtypes: datetime64[ns](1), int64(1), object(9)\n",
      "memory usage: 1.2+ MB\n"
     ]
    }
   ],
   "source": [
    "data.info()"
   ]
  },
  {
   "cell_type": "code",
   "execution_count": 26,
   "metadata": {},
   "outputs": [
    {
     "data": {
      "text/plain": [
       "0        2022-07-01 03:40:13\n",
       "1        2022-07-01 03:38:13\n",
       "2        2022-07-01 04:08:24\n",
       "3        0000-00-00 00:00:00\n",
       "4        2022-07-01 03:25:29\n",
       "                ...         \n",
       "13050         8/08/2022 6:48\n",
       "13051    0000-00-00 00:00:00\n",
       "13052        9/08/2022 13:13\n",
       "13053    0000-00-00 00:00:00\n",
       "13054    0000-00-00 00:00:00\n",
       "Name: RECEPCION, Length: 13026, dtype: object"
      ]
     },
     "execution_count": 26,
     "metadata": {},
     "output_type": "execute_result"
    }
   ],
   "source": [
    "data['RECEPCION']"
   ]
  },
  {
   "cell_type": "code",
   "execution_count": 35,
   "metadata": {},
   "outputs": [
    {
     "data": {
      "text/plain": [
       "0        2022-07-01 03:40:13\n",
       "1        2022-07-01 03:38:13\n",
       "2        2022-07-01 04:08:24\n",
       "3        0000-00-00 00:00:00\n",
       "4        2022-07-01 03:25:29\n",
       "                ...         \n",
       "13050         8/08/2022 6:48\n",
       "13051    0000-00-00 00:00:00\n",
       "13052        9/08/2022 13:13\n",
       "13053    0000-00-00 00:00:00\n",
       "13054    0000-00-00 00:00:00\n",
       "Name: RECEPCION, Length: 13055, dtype: object"
      ]
     },
     "execution_count": 35,
     "metadata": {},
     "output_type": "execute_result"
    }
   ],
   "source": [
    "col='RECEPCION'\n",
    "data [col]\n",
    "#data [col]=pd.to_datetime(data[col], errors = 'coerce') #los 0s o formato que no es, le pone NaT\n"
   ]
  },
  {
   "cell_type": "code",
   "execution_count": null,
   "metadata": {},
   "outputs": [],
   "source": [
    "data.info()"
   ]
  },
  {
   "cell_type": "code",
   "execution_count": 32,
   "metadata": {},
   "outputs": [
    {
     "ename": "NameError",
     "evalue": "name 'col' is not defined",
     "output_type": "error",
     "traceback": [
      "\u001b[1;31m---------------------------------------------------------------------------\u001b[0m",
      "\u001b[1;31mNameError\u001b[0m                                 Traceback (most recent call last)",
      "\u001b[1;32mc:\\Users\\DiazReyes\\Documents\\ESEIT2022_BDATA_2022b\\notebooks\\0.1-eda-inicial-llamadas-123.ipynb Cell 25\u001b[0m in \u001b[0;36m<cell line: 3>\u001b[1;34m()\u001b[0m\n\u001b[0;32m      <a href='vscode-notebook-cell:/c%3A/Users/DiazReyes/Documents/ESEIT2022_BDATA_2022b/notebooks/0.1-eda-inicial-llamadas-123.ipynb#X31sZmlsZQ%3D%3D?line=0'>1</a>\u001b[0m \u001b[39m#para que no todo quede como NaT, se le puede pasar formato:\u001b[39;00m\n\u001b[1;32m----> <a href='vscode-notebook-cell:/c%3A/Users/DiazReyes/Documents/ESEIT2022_BDATA_2022b/notebooks/0.1-eda-inicial-llamadas-123.ipynb#X31sZmlsZQ%3D%3D?line=2'>3</a>\u001b[0m pd\u001b[39m.\u001b[39mto_datetime(data[col], \u001b[39mformat\u001b[39m\u001b[39m=\u001b[39m \u001b[39m'\u001b[39m\u001b[39m%\u001b[39m\u001b[39mY-\u001b[39m\u001b[39m%\u001b[39m\u001b[39mm-\u001b[39m\u001b[39m%d\u001b[39;00m\u001b[39m \u001b[39m\u001b[39m%\u001b[39m\u001b[39mH:\u001b[39m\u001b[39m%\u001b[39m\u001b[39mM:\u001b[39m\u001b[39m%\u001b[39m\u001b[39mS\u001b[39m\u001b[39m'\u001b[39m )\n",
      "\u001b[1;31mNameError\u001b[0m: name 'col' is not defined"
     ]
    }
   ],
   "source": [
    "#para que no todo quede como NaT, se le puede pasar formato:\n",
    "\n",
    "pd.to_datetime(data[col], format= '%Y-%m-%d %H:%M:%S' ) \n",
    "#Sale Error, usar con otra libreria"
   ]
  },
  {
   "cell_type": "code",
   "execution_count": 39,
   "metadata": {},
   "outputs": [
    {
     "data": {
      "text/plain": [
       "datetime.datetime(2021, 8, 2, 17, 0, 5)"
      ]
     },
     "execution_count": 39,
     "metadata": {},
     "output_type": "execute_result"
    }
   ],
   "source": [
    "from dateutil.parser import parse\n",
    "parse ('08/02/2021 17:00:05')\n"
   ]
  },
  {
   "cell_type": "code",
   "execution_count": 38,
   "metadata": {},
   "outputs": [
    {
     "data": {
      "text/plain": [
       "datetime.datetime(2021, 8, 2, 17, 30)"
      ]
     },
     "execution_count": 38,
     "metadata": {},
     "output_type": "execute_result"
    }
   ],
   "source": [
    "parse ('08/02/2021 5:30 pm')"
   ]
  },
  {
   "cell_type": "code",
   "execution_count": 39,
   "metadata": {},
   "outputs": [
    {
     "data": {
      "text/plain": [
       "'8/08/2022 6:48'"
      ]
     },
     "execution_count": 39,
     "metadata": {},
     "output_type": "execute_result"
    }
   ],
   "source": [
    "data[col][13050] #ver un registro por el rowid"
   ]
  },
  {
   "cell_type": "code",
   "execution_count": 41,
   "metadata": {},
   "outputs": [
    {
     "data": {
      "text/plain": [
       "datetime.datetime(2022, 8, 8, 6, 48)"
      ]
     },
     "execution_count": 41,
     "metadata": {},
     "output_type": "execute_result"
    }
   ],
   "source": [
    "parse(data[col][13050], dayfirst =True) # Para indicar que primero va el dia luego el mes"
   ]
  },
  {
   "cell_type": "code",
   "execution_count": 42,
   "metadata": {},
   "outputs": [
    {
     "data": {
      "text/plain": [
       "Timestamp('2022-08-08 06:48:00')"
      ]
     },
     "execution_count": 42,
     "metadata": {},
     "output_type": "execute_result"
    }
   ],
   "source": [
    "pd.to_datetime(parse(data[col][13050], dayfirst =True) )"
   ]
  },
  {
   "cell_type": "code",
   "execution_count": 36,
   "metadata": {},
   "outputs": [],
   "source": [
    "#una funcion que reciaba un string, con fechas y regrese un valor en datetime usando parse\n",
    "def devuelve_fecha(str_fecha):\n",
    "    date_fecha=parse(str_fecha, dayfirst =False)  \n",
    "    date_fecha=pd.to_datetime(parse(str_fecha, dayfirst =False) )\n",
    "    return date_fecha\n",
    "\n",
    "    "
   ]
  },
  {
   "cell_type": "code",
   "execution_count": 45,
   "metadata": {},
   "outputs": [
    {
     "data": {
      "text/plain": [
       "Timestamp('2022-07-08 22:30:45')"
      ]
     },
     "execution_count": 45,
     "metadata": {},
     "output_type": "execute_result"
    }
   ],
   "source": [
    "devuelve_fecha('08/07/2022 22:30:45')"
   ]
  },
  {
   "cell_type": "code",
   "execution_count": 47,
   "metadata": {},
   "outputs": [
    {
     "data": {
      "text/plain": [
       "Timestamp('2022-08-08 06:48:00')"
      ]
     },
     "execution_count": 47,
     "metadata": {},
     "output_type": "execute_result"
    }
   ],
   "source": [
    "#usandolo en el data\n",
    "devuelve_fecha(data[col][13050])"
   ]
  },
  {
   "cell_type": "code",
   "execution_count": null,
   "metadata": {},
   "outputs": [],
   "source": [
    "#recorriendo por rangos\n",
    "for i in range (0, 5):\n",
    "    val_time=devuelve_fecha(data[col][i])\n",
    "    print(val_time)\n"
   ]
  },
  {
   "cell_type": "code",
   "execution_count": 53,
   "metadata": {},
   "outputs": [
    {
     "name": "stdout",
     "output_type": "stream",
     "text": [
      "2022-07-01 03:40:13\n",
      "2022-07-01 03:38:13\n",
      "2022-07-01 04:08:24\n",
      "3 year 0 is out of range: 0000-00-00 00:00:00\n",
      "2022-07-01 03:25:29\n"
     ]
    }
   ],
   "source": [
    "#Con manejo de Excepciones\n",
    "\n",
    "for i in range (0, 5):\n",
    "    try:\n",
    "        val_time=devuelve_fecha(data[col][i])\n",
    "    except Exception as e:\n",
    "        print(i,e)\n",
    "        continue\n",
    "    print(val_time)"
   ]
  },
  {
   "cell_type": "code",
   "execution_count": 37,
   "metadata": {},
   "outputs": [
    {
     "name": "stdout",
     "output_type": "stream",
     "text": [
      "0 name 'parse' is not defined\n",
      "1 name 'parse' is not defined\n",
      "2 name 'parse' is not defined\n",
      "3 name 'parse' is not defined\n",
      "4 name 'parse' is not defined\n"
     ]
    }
   ],
   "source": [
    "#Con listas\n",
    "list_fechas= list()\n",
    "for i in range (0, 5):\n",
    "    str_fecha = data[col][i]\n",
    "    \n",
    "    try:\n",
    "        val_time=devuelve_fecha(str_fecha)\n",
    "        list_fechas.append(val_time)\n",
    "    except Exception as e:\n",
    "        print(i,e)\n",
    "        list_fechas.append(str_fecha)\n",
    "        continue\n",
    "    print(val_time)\n"
   ]
  },
  {
   "cell_type": "code",
   "execution_count": null,
   "metadata": {},
   "outputs": [],
   "source": [
    "#para todo el documento \n",
    "list_fechas= list()\n",
    "n_filas = data.shape[0]\n",
    "#n_filas = len(data[col])\n",
    "\n",
    "for i in range (0, n_filas):\n",
    "    str_fecha = data[col][i]\n",
    "    \n",
    "    try:\n",
    "        val_time=devuelve_fecha(str_fecha)\n",
    "        list_fechas.append(val_time)\n",
    "    except Exception as e:\n",
    "        print(i,e)\n",
    "        list_fechas.append(str_fecha)\n",
    "        continue\n",
    "    print(val_time)\n"
   ]
  },
  {
   "cell_type": "code",
   "execution_count": 57,
   "metadata": {},
   "outputs": [],
   "source": [
    "data['RECEPCION_CORREGIDA'] = list_fechas"
   ]
  },
  {
   "cell_type": "code",
   "execution_count": 60,
   "metadata": {},
   "outputs": [],
   "source": [
    "data['RECEPCION_CORREGIDA'] = pd.to_datetime(data['RECEPCION_CORREGIDA'], errors = 'coerce')"
   ]
  },
  {
   "cell_type": "code",
   "execution_count": 61,
   "metadata": {},
   "outputs": [
    {
     "name": "stdout",
     "output_type": "stream",
     "text": [
      "<class 'pandas.core.frame.DataFrame'>\n",
      "RangeIndex: 13055 entries, 0 to 13054\n",
      "Data columns (total 12 columns):\n",
      " #   Column                             Non-Null Count  Dtype         \n",
      "---  ------                             --------------  -----         \n",
      " 0   NUMERO_INCIDENTE                   13055 non-null  object        \n",
      " 1   FECHA_INICIO_DESPLAZAMIENTO_MOVIL  13055 non-null  object        \n",
      " 2   CODIGO_LOCALIDAD                   13055 non-null  int64         \n",
      " 3   LOCALIDAD                          13055 non-null  object        \n",
      " 4   EDAD                               13055 non-null  object        \n",
      " 5   UNIDAD                             13047 non-null  object        \n",
      " 6   GENERO                             13055 non-null  object        \n",
      " 7   RED                                13055 non-null  object        \n",
      " 8   TIPO_INCIDENTE                     13055 non-null  object        \n",
      " 9   PRIORIDAD                          13055 non-null  object        \n",
      " 10  RECEPCION                          13055 non-null  object        \n",
      " 11  RECEPCION_CORREGIDA                5260 non-null   datetime64[ns]\n",
      "dtypes: datetime64[ns](1), int64(1), object(10)\n",
      "memory usage: 1.2+ MB\n"
     ]
    }
   ],
   "source": [
    "data.info()"
   ]
  },
  {
   "cell_type": "markdown",
   "metadata": {},
   "source": [
    "# Consistencia de los datos"
   ]
  },
  {
   "cell_type": "code",
   "execution_count": 64,
   "metadata": {},
   "outputs": [
    {
     "data": {
      "text/plain": [
       "SIN_DATO    6187\n",
       "23           150\n",
       "22           140\n",
       "30           134\n",
       "27           134\n",
       "            ... \n",
       "7             17\n",
       "98            16\n",
       "9             15\n",
       "8             14\n",
       "97            12\n",
       "Name: EDAD, Length: 100, dtype: int64"
      ]
     },
     "execution_count": 64,
     "metadata": {},
     "output_type": "execute_result"
    }
   ],
   "source": [
    "data['EDAD'].value_counts(dropna=False)"
   ]
  },
  {
   "cell_type": "code",
   "execution_count": 33,
   "metadata": {},
   "outputs": [
    {
     "data": {
      "text/plain": [
       "<bound method IndexOpsMixin.value_counts of 0         88\n",
       "1         16\n",
       "2         52\n",
       "3        NaN\n",
       "4         33\n",
       "        ... \n",
       "13050     18\n",
       "13051    NaN\n",
       "13052     11\n",
       "13053     19\n",
       "13054    NaN\n",
       "Name: EDAD, Length: 13055, dtype: object>"
      ]
     },
     "execution_count": 33,
     "metadata": {},
     "output_type": "execute_result"
    }
   ],
   "source": [
    "#Reemplazar SIN_DATO por un nulo de tipo numerico\n",
    "data['EDAD'].replace({'SIN_DATO' : np.nan}).value_counts"
   ]
  },
  {
   "cell_type": "markdown",
   "metadata": {},
   "source": [
    "Adaptar todo el codigo para hacer limpieza\n",
    "recibe el archivo en el directorio raw y lo tiene que arrojar limpio en el process\n"
   ]
  }
 ],
 "metadata": {
  "kernelspec": {
   "display_name": "Python 3.8.1 64-bit",
   "language": "python",
   "name": "python3"
  },
  "language_info": {
   "codemirror_mode": {
    "name": "ipython",
    "version": 3
   },
   "file_extension": ".py",
   "mimetype": "text/x-python",
   "name": "python",
   "nbconvert_exporter": "python",
   "pygments_lexer": "ipython3",
   "version": "3.8.1"
  },
  "orig_nbformat": 4,
  "vscode": {
   "interpreter": {
    "hash": "b7988af86240d36be76565e1408d849d6afdd0831519808dad42df791f95845e"
   }
  }
 },
 "nbformat": 4,
 "nbformat_minor": 2
}
