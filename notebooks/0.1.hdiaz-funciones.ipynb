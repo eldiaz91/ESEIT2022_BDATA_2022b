{
 "cells": [
  {
   "cell_type": "markdown",
   "metadata": {},
   "source": [
    "* Pipeline (Como viajan los datos dentro del script)\n",
    "\n",
    "read_data --> get_summary --> save_data"
   ]
  },
  {
   "cell_type": "markdown",
   "metadata": {},
   "source": [
    "PSEUDO CODIGO\n",
    "def main()\n",
    "    get_data()\n",
    "    get_summary()\n",
    "    save_data ()"
   ]
  },
  {
   "cell_type": "markdown",
   "metadata": {},
   "source": [
    "# Mas de funciones  "
   ]
  },
  {
   "cell_type": "code",
   "execution_count": 15,
   "metadata": {},
   "outputs": [],
   "source": [
    "#Funcion que calcule:\n",
    "# 1. La suma de todos los numeros de una lista\n",
    "# 2. Minimo valor de la lista\n",
    "# 3. Maximo valor de la lista\n",
    "# 4. La media y desviacion estandar."
   ]
  },
  {
   "cell_type": "code",
   "execution_count": 28,
   "metadata": {},
   "outputs": [],
   "source": [
    "from tabnanny import verbose\n",
    "\n",
    "\n",
    "def calcular_min_max(lista_numeros, verbose=True):\n",
    "    min_value=min(lista_numeros)\n",
    "    max_value=max(lista_numeros)\n",
    "\n",
    "    if verbose==True:\n",
    "        print(\"el valor minimo es: \", min_value)\n",
    "        print(\"el valor maximo es: \", max_value)\n",
    "    else:\n",
    "        pass\n",
    "\n",
    "    return min_value, max_value\n",
    "\n",
    "\n",
    "def calcular_valores_centrales(lista_numeros, verbose=True):\n",
    "\n",
    "    import numpy as np\n",
    "\n",
    "    media=np.mean(lista_numeros)\n",
    "    dev_std=np.std(lista_numeros)\n",
    "    \n",
    "    return media, dev_std\n",
    "\n",
    "def calcular_valores(lista_numeros):\n",
    "\n",
    "    # suma = calcular_suma(lista_numeros)\n",
    "     min_val, max_val = calcular_min_max(lista_numeros)\n",
    "     media, dev_std = calcular_valores_centrales(lista_numeros)\n",
    "\n",
    "    return suma, min_val, max_val, media, dev_std"
   ]
  },
  {
   "cell_type": "code",
   "execution_count": 29,
   "metadata": {},
   "outputs": [
    {
     "data": {
      "text/plain": [
       "(1, 9)"
      ]
     },
     "execution_count": 29,
     "metadata": {},
     "output_type": "execute_result"
    }
   ],
   "source": [
    "lista_valores = [1,3,5,7,9]\n",
    "calcular_min_max(lista_numeros=lista_valores, verbose=False)"
   ]
  }
 ],
 "metadata": {
  "kernelspec": {
   "display_name": "Python 3.8.1 64-bit",
   "language": "python",
   "name": "python3"
  },
  "language_info": {
   "codemirror_mode": {
    "name": "ipython",
    "version": 3
   },
   "file_extension": ".py",
   "mimetype": "text/x-python",
   "name": "python",
   "nbconvert_exporter": "python",
   "pygments_lexer": "ipython3",
   "version": "3.8.1"
  },
  "orig_nbformat": 4,
  "vscode": {
   "interpreter": {
    "hash": "b7988af86240d36be76565e1408d849d6afdd0831519808dad42df791f95845e"
   }
  }
 },
 "nbformat": 4,
 "nbformat_minor": 2
}
